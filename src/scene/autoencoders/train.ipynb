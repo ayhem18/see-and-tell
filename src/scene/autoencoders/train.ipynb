{
 "cells": [
  {
   "cell_type": "code",
   "execution_count": null,
   "metadata": {},
   "outputs": [],
   "source": [
    "import os, sys\n",
    "from pathlib import Path\n",
    "\n",
    "current = os.getcwd()\n",
    "\n",
    "while 'src' not in os.listdir(current):\n",
    "    current = Path(current).parent\n",
    "\n",
    "PARENT_DIR = current\n",
    "\n",
    "sys.path.append(str(current))\n",
    "sys.path.append(os.path.join(current, 'src'))\n"
   ]
  },
  {
   "cell_type": "code",
   "execution_count": null,
   "id": "initial_id",
   "metadata": {
    "collapsed": true
   },
   "outputs": [],
   "source": [
    "# src = os.path.join(PARENT_DIR, 'src', 'build_dataset', 'train', 'penny')\n",
    "# des = os.path.join(PARENT_DIR, 'src', 'scene', 'autoencoders', 'augmented_data')\n",
    "# aug.human_data_augmentation(dataset_directory=src,\n",
    "#                         output_directory=des,\n",
    "#                         debug=True)"
   ]
  },
  {
   "cell_type": "code",
   "execution_count": null,
   "metadata": {},
   "outputs": [],
   "source": [
    "import importlib\n",
    "# import src.scene.autoencoders.augmentation as aug\n",
    "import src.scene.autoencoders.scene_autoencoder as sae\n",
    "importlib.reload(sae)\n",
    "\n",
    "aug_data = os.path.join(PARENT_DIR, 'src', 'scene', 'augmented_data')\n",
    "logs = os.path.join(PARENT_DIR, 'src', 'scene', 'autoencoders', 'runs')\n",
    "os.makedirs(logs, exist_ok=True)\n",
    "sae.train_ae(data_dir=aug_data, batch_size=4,\n",
    "             log_dir=os.path.join(logs, f'exp_{len(os.listdir(logs)) + 1}'), num_epochs=100)"
   ]
  }
 ],
 "metadata": {
  "kernelspec": {
   "display_name": "Python 3",
   "language": "python",
   "name": "python3"
  },
  "language_info": {
   "codemirror_mode": {
    "name": "ipython",
    "version": 3
   },
   "file_extension": ".py",
   "mimetype": "text/x-python",
   "name": "python",
   "nbconvert_exporter": "python",
   "pygments_lexer": "ipython3",
   "version": "3.11.5"
  }
 },
 "nbformat": 4,
 "nbformat_minor": 5
}
