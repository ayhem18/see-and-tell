{
 "cells": [
  {
   "cell_type": "code",
   "execution_count": 1,
   "metadata": {},
   "outputs": [],
   "source": [
    "import pickle\n",
    "\n",
    "with open('captions.p', 'rb') as f:\n",
    "    captions = pickle.load(f)\n",
    "\n",
    "with open('preds.p', 'rb') as f:\n",
    "    preds = pickle.load(f)"
   ]
  },
  {
   "cell_type": "code",
   "execution_count": 2,
   "metadata": {
    "collapsed": false
   },
   "outputs": [
    {
     "name": "stderr",
     "output_type": "stream",
     "text": [
      "c:\\Users\\bouab\\DEV\\see-and-tell\\cntell_env\\lib\\site-packages\\tqdm\\auto.py:21: TqdmWarning: IProgress not found. Please update jupyter and ipywidgets. See https://ipywidgets.readthedocs.io/en/stable/user_install.html\n",
      "  from .autonotebook import tqdm as notebook_tqdm\n"
     ]
    },
    {
     "name": "stdout",
     "output_type": "stream",
     "text": [
      "c:\\Users\\bouab\\DEV\\see-and-tell\\src\n"
     ]
    },
    {
     "name": "stderr",
     "output_type": "stream",
     "text": [
      "2023-07-03 14:29:23 INFO: Loading these models for language: en (English):\n",
      "============================\n",
      "| Processor    | Package   |\n",
      "----------------------------\n",
      "| tokenize     | combined  |\n",
      "| pos          | combined  |\n",
      "| lemma        | combined  |\n",
      "| constituency | wsj       |\n",
      "| depparse     | combined  |\n",
      "| sentiment    | sstplus   |\n",
      "| ner          | ontonotes |\n",
      "============================\n",
      "\n",
      "2023-07-03 14:29:25 INFO: Using device: cuda\n",
      "2023-07-03 14:29:25 INFO: Loading: tokenize\n",
      "2023-07-03 14:29:26 INFO: Loading: pos\n",
      "2023-07-03 14:29:27 INFO: Loading: lemma\n",
      "2023-07-03 14:29:27 INFO: Loading: constituency\n",
      "2023-07-03 14:29:27 INFO: Loading: depparse\n",
      "2023-07-03 14:29:27 INFO: Loading: sentiment\n",
      "2023-07-03 14:29:28 INFO: Loading: ner\n",
      "2023-07-03 14:29:28 INFO: Done loading processors!\n"
     ]
    }
   ],
   "source": [
    "import stanza\n",
    "import os\n",
    "HOME = os.getcwd()\n",
    "print(HOME)\n",
    "\n",
    "from stanza.pipeline.core import DownloadMethod\n",
    "NLP = stanza.Pipeline('en', download_method=DownloadMethod.REUSE_RESOURCES, use_gpu=True) # to avoid downloading the models every time\n",
    "# nlp is a pipeline"
   ]
  },
  {
   "cell_type": "code",
   "execution_count": 3,
   "metadata": {},
   "outputs": [],
   "source": [
    "import re\n",
    "from _collections_abc import Sequence\n",
    "\n",
    "def __prepare_str(string: str) -> str:\n",
    "\n",
    "    REGEX1 = r'[^a-zA-Z\\d\\s-]+'\n",
    "    REGEX2 = r'[^a-zA-Z\\d\\s]+$'\n",
    "    # remove any punctuation whatsover\n",
    "    string = re.sub(REGEX1, '', string)\n",
    "    # add '.' to the end of the sentence\n",
    "    string += '.'\n",
    "    # remove '-' if it is at the end of a sentence\n",
    "    res = re.sub(REGEX2, '.', string.lower().strip())\n",
    "    return res\n",
    "\n",
    "def __prepare_text(list_str: Sequence[str]) -> str:\n",
    "    return \" \".join([__prepare_str(s) for s in list_str]).strip()"
   ]
  },
  {
   "cell_type": "code",
   "execution_count": 4,
   "metadata": {},
   "outputs": [
    {
     "name": "stdout",
     "output_type": "stream",
     "text": [
      "a man in a blue shirt with the number 73 on it. a man in a blue shirt with the number 73 on it. a man in a blue shirt with the number 73 on it. a man in a blue shirt is bending over a white board that says  lets do. a man and woman stand in front of a white board that says  the word  on it. a man and a woman stand in front of a white board that says  the word  on. a man and woman are standing in front of a white board that says  c c. a man in a blue shirt with the number 13 on it. a man and a woman are standing in front of a white board that says  c  on. a man in a jacket and glasses sits in a chair in front of a bookcase that says. a man and woman are drawing on a white board in a living room. a man and woman are drawing on a white board. a woman sitting on a couch with a box of drinks on the table. a man sitting in a chair with a book shelf behind him. a man is drawing a square on a white board. a man is sitting in a chair and is wearing glasses and a jacket that says  new york. a man is drawing a square on a white board with arrows on it. a man sitting in a chair with a bookcase behind him. a man is drawing a picture on a white board with the word ctc on it. a man in a jacket is sitting in a chair with a bookcase behind him.\n"
     ]
    }
   ],
   "source": [
    "text = __prepare_text(captions)\n",
    "print(text)"
   ]
  },
  {
   "cell_type": "code",
   "execution_count": 5,
   "metadata": {},
   "outputs": [],
   "source": [
    "doc = NLP(text)\n",
    "doc_sentences = [s.text.lower().strip() for s in doc.sentences]\n",
    "cleaned = [__prepare_str(c) for c in captions]"
   ]
  },
  {
   "cell_type": "code",
   "execution_count": 9,
   "metadata": {},
   "outputs": [
    {
     "name": "stdout",
     "output_type": "stream",
     "text": [
      "18\n",
      "a man in a blue shirt with the number 73 on it.\n",
      "a man in a blue shirt with the number 73 on it.\n",
      "####################################################################################################\n",
      "a man in a blue shirt with the number 73 on it.\n",
      "a man in a blue shirt with the number 73 on it.\n",
      "####################################################################################################\n",
      "a man in a blue shirt with the number 73 on it.\n",
      "a man in a blue shirt with the number 73 on it.\n",
      "####################################################################################################\n",
      "a man in a blue shirt is bending over a white board that says  lets do.\n",
      "a man in a blue shirt is bending over a white board that says  lets do.\n",
      "####################################################################################################\n",
      "a man and woman stand in front of a white board that says  the word  on it.\n",
      "a man and woman stand in front of a white board that says  the word  on it.\n",
      "####################################################################################################\n",
      "a man and a woman stand in front of a white board that says  the word  on.\n",
      "a man and a woman stand in front of a white board that says  the word  on.\n",
      "####################################################################################################\n",
      "a man and a woman are standing in front of a white board that says  c  on.\n",
      "a man and a woman are standing in front of a white board that says  c  on.\n",
      "####################################################################################################\n",
      "a man in a jacket and glasses sits in a chair in front of a bookcase that says.\n",
      "a man in a jacket and glasses sits in a chair in front of a bookcase that says.\n",
      "####################################################################################################\n",
      "a man and woman are drawing on a white board in a living room.\n",
      "a man and woman are drawing on a white board in a living room.\n",
      "####################################################################################################\n",
      "a man and woman are drawing on a white board.\n",
      "a man and woman are drawing on a white board.\n",
      "####################################################################################################\n",
      "a woman sitting on a couch with a box of drinks on the table.\n",
      "a woman sitting on a couch with a box of drinks on the table.\n",
      "####################################################################################################\n",
      "a man sitting in a chair with a book shelf behind him.\n",
      "a man sitting in a chair with a book shelf behind him.\n",
      "####################################################################################################\n",
      "a man is drawing a square on a white board.\n",
      "a man is drawing a square on a white board.\n",
      "####################################################################################################\n",
      "a man is sitting in a chair and is wearing glasses and a jacket that says  new york.\n",
      "a man is sitting in a chair and is wearing glasses and a jacket that says  new york.\n",
      "####################################################################################################\n",
      "a man is drawing a square on a white board with arrows on it.\n",
      "a man is drawing a square on a white board with arrows on it.\n",
      "####################################################################################################\n",
      "a man sitting in a chair with a bookcase behind him.\n",
      "a man sitting in a chair with a bookcase behind him.\n",
      "####################################################################################################\n",
      "a man is drawing a picture on a white board with the word ctc on it.\n",
      "a man is drawing a picture on a white board with the word ctc on it.\n",
      "####################################################################################################\n",
      "a man in a jacket is sitting in a chair with a bookcase behind him.\n",
      "a man in a jacket is sitting in a chair with a bookcase behind him.\n",
      "####################################################################################################\n"
     ]
    }
   ],
   "source": [
    "set1, set2 = set(), set()\n",
    "p1, p2 = 0, 0\n",
    "while p1 < len(doc_sentences) and p2 < len(cleaned):\n",
    "    if cleaned[p2] == doc_sentences[p1]:\n",
    "        set1.add(p1)\n",
    "        set2.add(p2)\n",
    "        p1 += 1\n",
    "        p2 += 1\n",
    "    else:\n",
    "        temp_sentence = ''\n",
    "        while p2 < len(cleaned) and temp_sentence.strip() != doc_sentences[p1].strip():\n",
    "            temp_sentence += f\" {cleaned[p2]}\"\n",
    "            p2 += 1\n",
    "        p1 += 1\n",
    "\n",
    "indices_captions = sorted(list(set1))\n",
    "indices_doc = sorted(list(set2))\n",
    "\n",
    "assert len(indices_captions) == len(indices_doc)\n",
    "\n",
    "print(len(indices_captions))\n",
    "\n",
    "for i1, i2 in zip(indices_captions, indices_doc):\n",
    "    print(cleaned[i2])\n",
    "    print(doc_sentences[i1])\n",
    "    print(\"#\" * 100)\n"
   ]
  },
  {
   "cell_type": "code",
   "execution_count": 8,
   "metadata": {},
   "outputs": [
    {
     "ename": "AssertionError",
     "evalue": "",
     "output_type": "error",
     "traceback": [
      "\u001B[1;31m---------------------------------------------------------------------------\u001B[0m",
      "\u001B[1;31mAssertionError\u001B[0m                            Traceback (most recent call last)",
      "Cell \u001B[1;32mIn[8], line 2\u001B[0m\n\u001B[0;32m      1\u001B[0m \u001B[39mfrom\u001B[39;00m \u001B[39mcaptions\u001B[39;00m\u001B[39m.\u001B[39;00m\u001B[39mcaptions_improved\u001B[39;00m \u001B[39mimport\u001B[39;00m generate_captions\n\u001B[1;32m----> 2\u001B[0m caps, indices \u001B[39m=\u001B[39m generate_captions(captions, preds)\n",
      "File \u001B[1;32mc:\\Users\\bouab\\DEV\\see-and-tell\\src\\captions\\captions_improved.py:171\u001B[0m, in \u001B[0;36mgenerate_captions\u001B[1;34m(captions, predictions)\u001B[0m\n\u001B[0;32m    169\u001B[0m \u001B[39mdef\u001B[39;00m \u001B[39mgenerate_captions\u001B[39m(captions: \u001B[39mlist\u001B[39m[\u001B[39mstr\u001B[39m], predictions: \u001B[39mlist\u001B[39m[\u001B[39mlist\u001B[39m[\u001B[39mlist\u001B[39m[\u001B[39mstr\u001B[39m]]]) \u001B[39m-\u001B[39m\u001B[39m>\u001B[39m \u001B[39mlist\u001B[39m[\u001B[39mstr\u001B[39m]:\n\u001B[1;32m--> 171\u001B[0m     nps \u001B[39m=\u001B[39m extract_noun_phrases(captions, select\u001B[39m=\u001B[39;49m\u001B[39mTrue\u001B[39;49;00m)\n\u001B[0;32m    172\u001B[0m     noun_phrases, filtered_noun_phrases \u001B[39m=\u001B[39m \u001B[39mlist\u001B[39m(\u001B[39mmap\u001B[39m(\u001B[39mlist\u001B[39m, \u001B[39mzip\u001B[39m(\u001B[39m*\u001B[39mnps)))\n\u001B[0;32m    174\u001B[0m     \u001B[39m# now we have the captions and the predictions ready\u001B[39;00m\n\u001B[0;32m    175\u001B[0m \n\u001B[0;32m    176\u001B[0m     \u001B[39m# time to build the matrix\u001B[39;00m\n",
      "File \u001B[1;32mc:\\Users\\bouab\\DEV\\see-and-tell\\src\\captions\\noun_phrases_detection.py:238\u001B[0m, in \u001B[0;36mextract_noun_phrases\u001B[1;34m(sentences, select)\u001B[0m\n\u001B[0;32m    234\u001B[0m doc_sentences \u001B[39m=\u001B[39m [s\u001B[39m.\u001B[39mtext\u001B[39m.\u001B[39mlower()\u001B[39m.\u001B[39mstrip() \u001B[39mfor\u001B[39;00m s \u001B[39min\u001B[39;00m doc\u001B[39m.\u001B[39msentences]\n\u001B[0;32m    236\u001B[0m \u001B[39m# since the tokenization process is not guaranteed to return the extract number of sentences\u001B[39;00m\n\u001B[0;32m    237\u001B[0m \u001B[39m# as in the input, some mapping of indices should take place.\u001B[39;00m\n\u001B[1;32m--> 238\u001B[0m cleaned_indices, doc_indices \u001B[39m=\u001B[39m __indices_mapping(cleaned, doc_sentences)\n\u001B[0;32m    240\u001B[0m \u001B[39m# work only with the indices extracted above\u001B[39;00m\n\u001B[0;32m    241\u001B[0m doc_sentences \u001B[39m=\u001B[39m [doc_sentences[i] \u001B[39mfor\u001B[39;00m i \u001B[39min\u001B[39;00m doc_indices]\n",
      "File \u001B[1;32mc:\\Users\\bouab\\DEV\\see-and-tell\\src\\captions\\noun_phrases_detection.py:221\u001B[0m, in \u001B[0;36m__indices_mapping\u001B[1;34m(cleaned, doc_sentences, debug)\u001B[0m\n\u001B[0;32m    219\u001B[0m         c \u001B[39m=\u001B[39m cleaned[i1]\n\u001B[0;32m    220\u001B[0m         d \u001B[39m=\u001B[39m doc_sentences[i2]\n\u001B[1;32m--> 221\u001B[0m         \u001B[39massert\u001B[39;00m __almost_equal(c, d)\n\u001B[0;32m    223\u001B[0m \u001B[39mreturn\u001B[39;00m cleaned_indices, doc_indices\n",
      "\u001B[1;31mAssertionError\u001B[0m: "
     ]
    }
   ],
   "source": [
    "from captions.captions_improved import generate_captions\n",
    "caps, indices = generate_captions(captions, preds)\n"
   ]
  },
  {
   "cell_type": "code",
   "execution_count": null,
   "metadata": {},
   "outputs": [],
   "source": []
  }
 ],
 "metadata": {
  "kernelspec": {
   "display_name": "env",
   "language": "python",
   "name": "python3"
  },
  "language_info": {
   "codemirror_mode": {
    "name": "ipython",
    "version": 3
   },
   "file_extension": ".py",
   "mimetype": "text/x-python",
   "name": "python",
   "nbconvert_exporter": "python",
   "pygments_lexer": "ipython3",
   "version": "3.10.9"
  },
  "orig_nbformat": 4
 },
 "nbformat": 4,
 "nbformat_minor": 2
}
