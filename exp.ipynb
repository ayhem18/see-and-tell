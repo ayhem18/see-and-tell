{
 "cells": [
  {
   "cell_type": "code",
   "execution_count": 1,
   "metadata": {},
   "outputs": [
    {
     "name": "stderr",
     "output_type": "stream",
     "text": [
      "c:\\Users\\bouab\\DEV\\see-and-tell\\cntell_env\\lib\\site-packages\\tqdm\\auto.py:21: TqdmWarning: IProgress not found. Please update jupyter and ipywidgets. See https://ipywidgets.readthedocs.io/en/stable/user_install.html\n",
      "  from .autonotebook import tqdm as notebook_tqdm\n"
     ]
    },
    {
     "name": "stdout",
     "output_type": "stream",
     "text": [
      "c:\\Users\\bouab\\DEV\\see-and-tell\n"
     ]
    },
    {
     "name": "stderr",
     "output_type": "stream",
     "text": [
      "2023-06-27 17:23:22 INFO: Loading these models for language: en (English):\n",
      "============================\n",
      "| Processor    | Package   |\n",
      "----------------------------\n",
      "| tokenize     | combined  |\n",
      "| pos          | combined  |\n",
      "| lemma        | combined  |\n",
      "| constituency | wsj       |\n",
      "| depparse     | combined  |\n",
      "| sentiment    | sstplus   |\n",
      "| ner          | ontonotes |\n",
      "============================\n",
      "\n",
      "2023-06-27 17:23:22 INFO: Using device: cuda\n",
      "2023-06-27 17:23:22 INFO: Loading: tokenize\n",
      "2023-06-27 17:23:24 INFO: Loading: pos\n",
      "2023-06-27 17:23:24 INFO: Loading: lemma\n",
      "2023-06-27 17:23:24 INFO: Loading: constituency\n",
      "2023-06-27 17:23:24 INFO: Loading: depparse\n",
      "2023-06-27 17:23:25 INFO: Loading: sentiment\n",
      "2023-06-27 17:23:25 INFO: Loading: ner\n",
      "2023-06-27 17:23:25 INFO: Done loading processors!\n"
     ]
    },
    {
     "data": {
      "text/plain": [
       "True"
      ]
     },
     "execution_count": 1,
     "metadata": {},
     "output_type": "execute_result"
    }
   ],
   "source": [
    "import stanza\n",
    "import os\n",
    "HOME = os.getcwd()\n",
    "print(HOME)\n",
    "\n",
    "from stanza.pipeline.core import DownloadMethod\n",
    "NLP = stanza.Pipeline('en', download_method=DownloadMethod.REUSE_RESOURCES, use_gpu=True) # to avoid downloading the models every time\n",
    "import torch\n",
    "\n",
    "torch.cuda.is_available()\n"
   ]
  },
  {
   "attachments": {},
   "cell_type": "markdown",
   "metadata": {},
   "source": [
    "# Face recognition"
   ]
  },
  {
   "cell_type": "code",
   "execution_count": 2,
   "metadata": {},
   "outputs": [],
   "source": [
    "# from src.experimental.exp import get_caption\n",
    "# from src.face.face_recognition import recognize_faces\n",
    "# def get_result_image(image_path):\n",
    "#     # extract the caption\n",
    "#     caption = get_caption(image_path)\n",
    "#     # get the faces present in the image \n",
    "#     o1 = recognize_faces(image_path, embeddings=bbt_embeddings, display=False)    \n",
    "#     print(caption)\n",
    "#     print(o1)\n",
    "#     return caption, o1\n"
   ]
  },
  {
   "attachments": {},
   "cell_type": "markdown",
   "metadata": {},
   "source": [
    "# Test"
   ]
  },
  {
   "cell_type": "code",
   "execution_count": 3,
   "metadata": {},
   "outputs": [],
   "source": [
    "from pathlib import Path\n",
    "HOME = os.getcwd()\n",
    "import json\n",
    "with open(os.path.join(HOME,'src','TBBT_embeddings_16_160.json')) as f:\n",
    "  bbt_embeddings = json.load(f)\n",
    "\n",
    "import os\n",
    "f = os.path.join(HOME, 'src', 'frames copy')\n",
    "frames = os.listdir(f)\n",
    "frames = sorted([os.path.join(f, x) for x in frames], key=lambda x: int(os.path.basename(x)[:-4]))"
   ]
  },
  {
   "cell_type": "code",
   "execution_count": 4,
   "metadata": {},
   "outputs": [],
   "source": [
    "import pickle \n",
    "\n",
    "# with open('all_predictions_1.pickle', 'wb') as handle:\n",
    "#     pickle.dump(face_pred, handle, protocol=pickle.HIGHEST_PROTOCOL)\n",
    "\n",
    "with open('all_captions_1.pickle', 'rb') as handle:\n",
    "    captions = pickle.load(handle)\n",
    "\n",
    "\n",
    "with open('all_predictions_1.pickle', 'rb') as handle:\n",
    "    face_preds = pickle.load(handle)"
   ]
  },
  {
   "cell_type": "code",
   "execution_count": 5,
   "metadata": {},
   "outputs": [],
   "source": [
    "# from src.face.face_recognition import recognize_faces\n",
    "# face_pred = [recognize_faces(os.path.join(f), embeddings=bbt_embeddings) for f in frames[1:]]\n",
    "assert len(face_preds) == len(captions)"
   ]
  },
  {
   "cell_type": "code",
   "execution_count": 6,
   "metadata": {},
   "outputs": [],
   "source": [
    "face_preds = [[p[0] for p in ps] for ps in face_preds]"
   ]
  },
  {
   "cell_type": "code",
   "execution_count": 7,
   "metadata": {},
   "outputs": [
    {
     "name": "stderr",
     "output_type": "stream",
     "text": [
      "2023-06-27 17:23:33 INFO: Loading these models for language: en (English):\n",
      "============================\n",
      "| Processor    | Package   |\n",
      "----------------------------\n",
      "| tokenize     | combined  |\n",
      "| pos          | combined  |\n",
      "| lemma        | combined  |\n",
      "| constituency | wsj       |\n",
      "| depparse     | combined  |\n",
      "| sentiment    | sstplus   |\n",
      "| ner          | ontonotes |\n",
      "============================\n",
      "\n",
      "2023-06-27 17:23:33 INFO: Using device: cuda\n",
      "2023-06-27 17:23:33 INFO: Loading: tokenize\n",
      "2023-06-27 17:23:33 INFO: Loading: pos\n",
      "2023-06-27 17:23:33 INFO: Loading: lemma\n",
      "2023-06-27 17:23:33 INFO: Loading: constituency\n",
      "2023-06-27 17:23:34 INFO: Loading: depparse\n",
      "2023-06-27 17:23:34 INFO: Loading: sentiment\n",
      "2023-06-27 17:23:35 INFO: Loading: ner\n",
      "2023-06-27 17:23:35 INFO: Done loading processors!\n"
     ]
    },
    {
     "ename": "KeyboardInterrupt",
     "evalue": "",
     "output_type": "error",
     "traceback": [
      "\u001b[1;31m---------------------------------------------------------------------------\u001b[0m",
      "\u001b[1;31mKeyboardInterrupt\u001b[0m                         Traceback (most recent call last)",
      "Cell \u001b[1;32mIn[7], line 2\u001b[0m\n\u001b[0;32m      1\u001b[0m \u001b[39mimport\u001b[39;00m \u001b[39msrc\u001b[39;00m\u001b[39m.\u001b[39;00m\u001b[39mcaptions_2\u001b[39;00m\u001b[39m.\u001b[39;00m\u001b[39mcaptions_improved\u001b[39;00m \u001b[39mas\u001b[39;00m \u001b[39mci\u001b[39;00m\n\u001b[1;32m----> 2\u001b[0m gcs, indices \u001b[39m=\u001b[39m ci\u001b[39m.\u001b[39;49mgenerate_captions(captions, face_preds)\n",
      "File \u001b[1;32mc:\\Users\\bouab\\DEV\\see-and-tell\\src\\captions_2\\captions_improved.py:165\u001b[0m, in \u001b[0;36mgenerate_captions\u001b[1;34m(captions, predictions)\u001b[0m\n\u001b[0;32m    163\u001b[0m \u001b[39mdef\u001b[39;00m \u001b[39mgenerate_captions\u001b[39m(captions: \u001b[39mlist\u001b[39m[\u001b[39mstr\u001b[39m], predictions: \u001b[39mlist\u001b[39m[\u001b[39mlist\u001b[39m[\u001b[39mlist\u001b[39m[\u001b[39mstr\u001b[39m]]]) \u001b[39m-\u001b[39m\u001b[39m>\u001b[39m \u001b[39mtuple\u001b[39m[\u001b[39mlist\u001b[39m[\u001b[39mstr\u001b[39m], \u001b[39mset\u001b[39m[\u001b[39mint\u001b[39m]]:\n\u001b[1;32m--> 165\u001b[0m     nps, indices \u001b[39m=\u001b[39m extract_noun_phrases(captions, select\u001b[39m=\u001b[39;49m\u001b[39mTrue\u001b[39;49;00m)\n\u001b[0;32m    166\u001b[0m     noun_phrases, filtered_noun_phrases \u001b[39m=\u001b[39m \u001b[39mlist\u001b[39m(\u001b[39mmap\u001b[39m(\u001b[39mlist\u001b[39m, \u001b[39mzip\u001b[39m(\u001b[39m*\u001b[39mnps)))\n\u001b[0;32m    168\u001b[0m     \u001b[39m# now we have the captions and the predictions ready\u001b[39;00m\n\u001b[0;32m    169\u001b[0m \n\u001b[0;32m    170\u001b[0m     \u001b[39m# time to build the matrix\u001b[39;00m\n",
      "File \u001b[1;32mc:\\Users\\bouab\\DEV\\see-and-tell\\src\\captions_2\\noun_phrases_detection.py:218\u001b[0m, in \u001b[0;36mextract_noun_phrases\u001b[1;34m(sentences, select)\u001b[0m\n\u001b[0;32m    216\u001b[0m doc_sentences \u001b[39m=\u001b[39m [s\u001b[39m.\u001b[39mtext\u001b[39m.\u001b[39mlower()\u001b[39m.\u001b[39mstrip() \u001b[39mfor\u001b[39;00m s \u001b[39min\u001b[39;00m doc\u001b[39m.\u001b[39msentences]\n\u001b[0;32m    217\u001b[0m \u001b[39m# convert to a counter\u001b[39;00m\n\u001b[1;32m--> 218\u001b[0m doc_sentences \u001b[39m=\u001b[39m Counter(doc_sentences)\n\u001b[0;32m    220\u001b[0m \u001b[39m# iterate through the initial sentences\u001b[39;00m\n\u001b[0;32m    221\u001b[0m indices \u001b[39m=\u001b[39m \u001b[39mset\u001b[39m()\n",
      "File \u001b[1;32mc:\\Users\\bouab\\DEV\\see-and-tell\\src\\captions_2\\noun_phrases_detection.py:218\u001b[0m, in \u001b[0;36mextract_noun_phrases\u001b[1;34m(sentences, select)\u001b[0m\n\u001b[0;32m    216\u001b[0m doc_sentences \u001b[39m=\u001b[39m [s\u001b[39m.\u001b[39mtext\u001b[39m.\u001b[39mlower()\u001b[39m.\u001b[39mstrip() \u001b[39mfor\u001b[39;00m s \u001b[39min\u001b[39;00m doc\u001b[39m.\u001b[39msentences]\n\u001b[0;32m    217\u001b[0m \u001b[39m# convert to a counter\u001b[39;00m\n\u001b[1;32m--> 218\u001b[0m doc_sentences \u001b[39m=\u001b[39m Counter(doc_sentences)\n\u001b[0;32m    220\u001b[0m \u001b[39m# iterate through the initial sentences\u001b[39;00m\n\u001b[0;32m    221\u001b[0m indices \u001b[39m=\u001b[39m \u001b[39mset\u001b[39m()\n",
      "File \u001b[1;32m_pydevd_bundle/pydevd_cython.pyx:1457\u001b[0m, in \u001b[0;36m_pydevd_bundle.pydevd_cython.SafeCallWrapper.__call__\u001b[1;34m()\u001b[0m\n",
      "File \u001b[1;32m_pydevd_bundle/pydevd_cython.pyx:701\u001b[0m, in \u001b[0;36m_pydevd_bundle.pydevd_cython.PyDBFrame.trace_dispatch\u001b[1;34m()\u001b[0m\n",
      "File \u001b[1;32m_pydevd_bundle/pydevd_cython.pyx:1152\u001b[0m, in \u001b[0;36m_pydevd_bundle.pydevd_cython.PyDBFrame.trace_dispatch\u001b[1;34m()\u001b[0m\n",
      "File \u001b[1;32m_pydevd_bundle/pydevd_cython.pyx:1135\u001b[0m, in \u001b[0;36m_pydevd_bundle.pydevd_cython.PyDBFrame.trace_dispatch\u001b[1;34m()\u001b[0m\n",
      "File \u001b[1;32m_pydevd_bundle/pydevd_cython.pyx:312\u001b[0m, in \u001b[0;36m_pydevd_bundle.pydevd_cython.PyDBFrame.do_wait_suspend\u001b[1;34m()\u001b[0m\n",
      "File \u001b[1;32mc:\\Users\\bouab\\DEV\\see-and-tell\\cntell_env\\lib\\site-packages\\debugpy\\_vendored\\pydevd\\pydevd.py:2070\u001b[0m, in \u001b[0;36mPyDB.do_wait_suspend\u001b[1;34m(self, thread, frame, event, arg, exception_type)\u001b[0m\n\u001b[0;32m   2067\u001b[0m             from_this_thread\u001b[39m.\u001b[39mappend(frame_custom_thread_id)\n\u001b[0;32m   2069\u001b[0m     \u001b[39mwith\u001b[39;00m \u001b[39mself\u001b[39m\u001b[39m.\u001b[39m_threads_suspended_single_notification\u001b[39m.\u001b[39mnotify_thread_suspended(thread_id, thread, stop_reason):\n\u001b[1;32m-> 2070\u001b[0m         keep_suspended \u001b[39m=\u001b[39m \u001b[39mself\u001b[39;49m\u001b[39m.\u001b[39;49m_do_wait_suspend(thread, frame, event, arg, suspend_type, from_this_thread, frames_tracker)\n\u001b[0;32m   2072\u001b[0m frames_list \u001b[39m=\u001b[39m \u001b[39mNone\u001b[39;00m\n\u001b[0;32m   2074\u001b[0m \u001b[39mif\u001b[39;00m keep_suspended:\n\u001b[0;32m   2075\u001b[0m     \u001b[39m# This means that we should pause again after a set next statement.\u001b[39;00m\n",
      "File \u001b[1;32mc:\\Users\\bouab\\DEV\\see-and-tell\\cntell_env\\lib\\site-packages\\debugpy\\_vendored\\pydevd\\pydevd.py:2106\u001b[0m, in \u001b[0;36mPyDB._do_wait_suspend\u001b[1;34m(self, thread, frame, event, arg, suspend_type, from_this_thread, frames_tracker)\u001b[0m\n\u001b[0;32m   2103\u001b[0m         \u001b[39mself\u001b[39m\u001b[39m.\u001b[39m_call_input_hook()\n\u001b[0;32m   2105\u001b[0m     \u001b[39mself\u001b[39m\u001b[39m.\u001b[39mprocess_internal_commands()\n\u001b[1;32m-> 2106\u001b[0m     time\u001b[39m.\u001b[39;49msleep(\u001b[39m0.01\u001b[39;49m)\n\u001b[0;32m   2108\u001b[0m \u001b[39mself\u001b[39m\u001b[39m.\u001b[39mcancel_async_evaluation(get_current_thread_id(thread), \u001b[39mstr\u001b[39m(\u001b[39mid\u001b[39m(frame)))\n\u001b[0;32m   2110\u001b[0m \u001b[39m# process any stepping instructions\u001b[39;00m\n",
      "\u001b[1;31mKeyboardInterrupt\u001b[0m: "
     ]
    }
   ],
   "source": [
    "import src.captions.captions_improved as ci\n",
    "gcs, indices = ci.generate_captions(captions, face_preds)"
   ]
  },
  {
   "cell_type": "code",
   "execution_count": null,
   "metadata": {},
   "outputs": [],
   "source": []
  }
 ],
 "metadata": {
  "kernelspec": {
   "display_name": "env",
   "language": "python",
   "name": "python3"
  },
  "language_info": {
   "codemirror_mode": {
    "name": "ipython",
    "version": 3
   },
   "file_extension": ".py",
   "mimetype": "text/x-python",
   "name": "python",
   "nbconvert_exporter": "python",
   "pygments_lexer": "ipython3",
   "version": "3.10.9"
  },
  "orig_nbformat": 4
 },
 "nbformat": 4,
 "nbformat_minor": 2
}
